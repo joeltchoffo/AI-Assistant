{
 "cells": [
  {
   "cell_type": "code",
   "execution_count": 2,
   "id": "5b4c7b8c-01b3-45cb-9efb-8effc5477bc1",
   "metadata": {},
   "outputs": [],
   "source": [
    "section_text = \"\"\"\n",
    "Informationssicherheit – SoSe 2025\n",
    "Organisatorisches & Motivation\n",
    "\"\"\"\n"
   ]
  },
  {
   "cell_type": "code",
   "execution_count": 3,
   "id": "60c246c3-7faa-405d-8002-335e5ba21263",
   "metadata": {},
   "outputs": [],
   "source": [
    "prompt = f\"\"\"\n",
    "You are a research assistant. Summarize the text below in max 5 bullet points.\n",
    "Focus on: problem addressed, methods, results, limitations.\n",
    "Be concise and avoid generic filler.\n",
    "\n",
    "Text:\n",
    "{section_text}\n",
    "\"\"\"\n"
   ]
  },
  {
   "cell_type": "code",
   "execution_count": 4,
   "id": "cef0cfc8-c473-42ff-b1f1-e7ce36a816e2",
   "metadata": {},
   "outputs": [],
   "source": [
    "question = \"What datasets does the paper use?\"\n",
    "\n",
    "prompt = f\"\"\"\n",
    "You are a research assistant. Answer the question below using ONLY the provided text.\n",
    "If the answer is not explicitly in the text, respond exactly: \"Not found.\"\n",
    "\n",
    "Question: {question}\n",
    "\n",
    "Context:\n",
    "{section_text}\n",
    "\"\"\"\n"
   ]
  },
  {
   "cell_type": "code",
   "execution_count": 5,
   "id": "36920218-1b7e-4e5c-b9e1-085c67632e7b",
   "metadata": {},
   "outputs": [
    {
     "name": "stdout",
     "output_type": "stream",
     "text": [
      "\n",
      "Informationssicherheit – SoSe 2025\n",
      "Organisatorisches & Motivation\n",
      "\n"
     ]
    }
   ],
   "source": [
    "def offline_generate(text):\n",
    "    # Zeigt einfach die wichtigsten Sätze\n",
    "    sents = text.split(\"\\n\")\n",
    "    return \"\\n\".join(sents[:5])\n",
    "\n",
    "print(offline_generate(section_text))\n"
   ]
  },
  {
   "cell_type": "code",
   "execution_count": 7,
   "id": "1fb54fcc-2050-49c7-8454-3534204cbba0",
   "metadata": {},
   "outputs": [
    {
     "name": "stdout",
     "output_type": "stream",
     "text": [
      "Defaulting to user installation because normal site-packages is not writeable\n",
      "Requirement already satisfied: sentence-transformers in c:\\users\\joel2\\appdata\\roaming\\python\\python312\\site-packages (5.1.0)\n",
      "Requirement already satisfied: faiss-cpu in c:\\users\\joel2\\appdata\\roaming\\python\\python312\\site-packages (1.12.0)\n",
      "Requirement already satisfied: PyMuPDF in c:\\users\\joel2\\appdata\\roaming\\python\\python312\\site-packages (1.26.3)\n",
      "Requirement already satisfied: transformers<5.0.0,>=4.41.0 in c:\\users\\joel2\\appdata\\roaming\\python\\python312\\site-packages (from sentence-transformers) (4.56.0)\n",
      "Requirement already satisfied: tqdm in c:\\users\\joel2\\appdata\\roaming\\python\\python312\\site-packages (from sentence-transformers) (4.67.1)\n",
      "Requirement already satisfied: torch>=1.11.0 in c:\\users\\joel2\\appdata\\roaming\\python\\python312\\site-packages (from sentence-transformers) (2.8.0)\n",
      "Requirement already satisfied: scikit-learn in c:\\users\\joel2\\appdata\\roaming\\python\\python312\\site-packages (from sentence-transformers) (1.7.1)\n",
      "Requirement already satisfied: scipy in c:\\users\\joel2\\appdata\\roaming\\python\\python312\\site-packages (from sentence-transformers) (1.16.1)\n",
      "Requirement already satisfied: huggingface-hub>=0.20.0 in c:\\users\\joel2\\appdata\\roaming\\python\\python312\\site-packages (from sentence-transformers) (0.34.4)\n",
      "Requirement already satisfied: Pillow in c:\\users\\joel2\\appdata\\roaming\\python\\python312\\site-packages (from sentence-transformers) (11.2.1)\n",
      "Requirement already satisfied: typing_extensions>=4.5.0 in c:\\users\\joel2\\appdata\\roaming\\python\\python312\\site-packages (from sentence-transformers) (4.13.2)\n",
      "Requirement already satisfied: numpy<3.0,>=1.25.0 in c:\\users\\joel2\\appdata\\roaming\\python\\python312\\site-packages (from faiss-cpu) (2.2.5)\n",
      "Requirement already satisfied: packaging in c:\\users\\joel2\\appdata\\roaming\\python\\python312\\site-packages (from faiss-cpu) (25.0)\n",
      "Requirement already satisfied: filelock in c:\\users\\joel2\\appdata\\roaming\\python\\python312\\site-packages (from huggingface-hub>=0.20.0->sentence-transformers) (3.19.1)\n",
      "Requirement already satisfied: fsspec>=2023.5.0 in c:\\users\\joel2\\appdata\\roaming\\python\\python312\\site-packages (from huggingface-hub>=0.20.0->sentence-transformers) (2025.7.0)\n",
      "Requirement already satisfied: pyyaml>=5.1 in c:\\users\\joel2\\appdata\\roaming\\python\\python312\\site-packages (from huggingface-hub>=0.20.0->sentence-transformers) (6.0.2)\n",
      "Requirement already satisfied: requests in c:\\users\\joel2\\appdata\\roaming\\python\\python312\\site-packages (from huggingface-hub>=0.20.0->sentence-transformers) (2.32.3)\n",
      "Requirement already satisfied: sympy>=1.13.3 in c:\\users\\joel2\\appdata\\roaming\\python\\python312\\site-packages (from torch>=1.11.0->sentence-transformers) (1.14.0)\n",
      "Requirement already satisfied: networkx in c:\\users\\joel2\\appdata\\roaming\\python\\python312\\site-packages (from torch>=1.11.0->sentence-transformers) (3.5)\n",
      "Requirement already satisfied: jinja2 in c:\\users\\joel2\\appdata\\roaming\\python\\python312\\site-packages (from torch>=1.11.0->sentence-transformers) (3.1.6)\n",
      "Requirement already satisfied: setuptools in c:\\users\\joel2\\appdata\\roaming\\python\\python312\\site-packages (from torch>=1.11.0->sentence-transformers) (80.7.1)\n",
      "Requirement already satisfied: colorama in c:\\users\\joel2\\appdata\\roaming\\python\\python312\\site-packages (from tqdm->sentence-transformers) (0.4.6)\n",
      "Requirement already satisfied: regex!=2019.12.17 in c:\\users\\joel2\\appdata\\roaming\\python\\python312\\site-packages (from transformers<5.0.0,>=4.41.0->sentence-transformers) (2025.8.29)\n",
      "Requirement already satisfied: tokenizers<=0.23.0,>=0.22.0 in c:\\users\\joel2\\appdata\\roaming\\python\\python312\\site-packages (from transformers<5.0.0,>=4.41.0->sentence-transformers) (0.22.0)\n",
      "Requirement already satisfied: safetensors>=0.4.3 in c:\\users\\joel2\\appdata\\roaming\\python\\python312\\site-packages (from transformers<5.0.0,>=4.41.0->sentence-transformers) (0.6.2)\n",
      "Requirement already satisfied: joblib>=1.2.0 in c:\\users\\joel2\\appdata\\roaming\\python\\python312\\site-packages (from scikit-learn->sentence-transformers) (1.5.2)\n",
      "Requirement already satisfied: threadpoolctl>=3.1.0 in c:\\users\\joel2\\appdata\\roaming\\python\\python312\\site-packages (from scikit-learn->sentence-transformers) (3.6.0)\n",
      "Requirement already satisfied: mpmath<1.4,>=1.1.0 in c:\\users\\joel2\\appdata\\roaming\\python\\python312\\site-packages (from sympy>=1.13.3->torch>=1.11.0->sentence-transformers) (1.3.0)\n",
      "Requirement already satisfied: MarkupSafe>=2.0 in c:\\users\\joel2\\appdata\\roaming\\python\\python312\\site-packages (from jinja2->torch>=1.11.0->sentence-transformers) (3.0.2)\n",
      "Requirement already satisfied: charset-normalizer<4,>=2 in c:\\users\\joel2\\appdata\\roaming\\python\\python312\\site-packages (from requests->huggingface-hub>=0.20.0->sentence-transformers) (3.4.2)\n",
      "Requirement already satisfied: idna<4,>=2.5 in c:\\users\\joel2\\appdata\\roaming\\python\\python312\\site-packages (from requests->huggingface-hub>=0.20.0->sentence-transformers) (3.10)\n",
      "Requirement already satisfied: urllib3<3,>=1.21.1 in c:\\users\\joel2\\appdata\\roaming\\python\\python312\\site-packages (from requests->huggingface-hub>=0.20.0->sentence-transformers) (2.4.0)\n",
      "Requirement already satisfied: certifi>=2017.4.17 in c:\\users\\joel2\\appdata\\roaming\\python\\python312\\site-packages (from requests->huggingface-hub>=0.20.0->sentence-transformers) (2025.4.26)\n",
      "Note: you may need to restart the kernel to use updated packages.\n"
     ]
    },
    {
     "name": "stderr",
     "output_type": "stream",
     "text": [
      "\n",
      "[notice] A new release of pip is available: 24.2 -> 25.2\n",
      "[notice] To update, run: python.exe -m pip install --upgrade pip\n"
     ]
    }
   ],
   "source": [
    "%pip install sentence-transformers faiss-cpu PyMuPDF"
   ]
  },
  {
   "cell_type": "code",
   "execution_count": 8,
   "id": "ebed8042-db51-4537-81db-508bad609675",
   "metadata": {},
   "outputs": [
    {
     "name": "stdout",
     "output_type": "stream",
     "text": [
      "Informationssicherheit – SoSe 2025\n",
      "Organisatorisches & Motivation\n",
      "Prof. Dr. Holger Schmidt\n",
      "holger.schmidt004[at]fh-dortmund.de\n",
      "Fachhochschule Dortmund\n",
      "Fachbereich Informatik\n",
      "Professur für IT-Sicherheit, Informatik\n",
      "1. April 2025, 10:20:47\n",
      "1 / 41\n",
      "IT-Sicherheit, Informatik\n",
      "2 / 41\n",
      "Professur für IT-Sicherheit, Informatik I\n",
      "▶Prof. Dr. Holger Schmidt\n",
      "▶Informationssicherheit (46813)\n",
      "(alter Titel: Datenschutz und Datensicherheit)\n",
      "▶Informatik (Bachelor, 4. Sem., Pflicht)\n",
      "▶Informatik Dual (Bachelor, 2. Sem\n"
     ]
    }
   ],
   "source": [
    "import fitz  # PyMuPDF\n",
    "\n",
    "doc = fitz.open(\"data/papers/infoSicherheit_merged.pdf\")\n",
    "text = \"\"\n",
    "for page in doc:\n",
    "    text += page.get_text(\"text\")\n",
    "print(text[:500])  # Vorschau\n"
   ]
  },
  {
   "cell_type": "code",
   "execution_count": 9,
   "id": "9f5aeadb-9ed0-401b-bd57-31a7503be9a2",
   "metadata": {},
   "outputs": [
    {
     "name": "stdout",
     "output_type": "stream",
     "text": [
      "Anzahl Chunks: 51\n"
     ]
    }
   ],
   "source": [
    "def chunk_text(text, size=500, overlap=100):\n",
    "    words = text.split()\n",
    "    chunks = []\n",
    "    start = 0\n",
    "    while start < len(words):\n",
    "        end = start + size\n",
    "        chunks.append(\" \".join(words[start:end]))\n",
    "        start = end - overlap\n",
    "    return chunks\n",
    "\n",
    "chunks = chunk_text(text)\n",
    "print(\"Anzahl Chunks:\", len(chunks))\n"
   ]
  },
  {
   "cell_type": "code",
   "execution_count": 10,
   "id": "ef73fb3a-e1ac-4b27-bcf9-37d299cd8118",
   "metadata": {},
   "outputs": [
    {
     "data": {
      "application/vnd.jupyter.widget-view+json": {
       "model_id": "206dc78b80c442c1a2bacf8168778522",
       "version_major": 2,
       "version_minor": 0
      },
      "text/plain": [
       "modules.json:   0%|          | 0.00/349 [00:00<?, ?B/s]"
      ]
     },
     "metadata": {},
     "output_type": "display_data"
    },
    {
     "name": "stderr",
     "output_type": "stream",
     "text": [
      "C:\\Users\\joel2\\AppData\\Roaming\\Python\\Python312\\site-packages\\huggingface_hub\\file_download.py:143: UserWarning: `huggingface_hub` cache-system uses symlinks by default to efficiently store duplicated files but your machine does not support them in C:\\Users\\joel2\\.cache\\huggingface\\hub\\models--sentence-transformers--all-MiniLM-L6-v2. Caching files will still work but in a degraded version that might require more space on your disk. This warning can be disabled by setting the `HF_HUB_DISABLE_SYMLINKS_WARNING` environment variable. For more details, see https://huggingface.co/docs/huggingface_hub/how-to-cache#limitations.\n",
      "To support symlinks on Windows, you either need to activate Developer Mode or to run Python as an administrator. In order to activate developer mode, see this article: https://docs.microsoft.com/en-us/windows/apps/get-started/enable-your-device-for-development\n",
      "  warnings.warn(message)\n"
     ]
    },
    {
     "data": {
      "application/vnd.jupyter.widget-view+json": {
       "model_id": "7de8db3eb4a646b380c7e5dc5e7d26f9",
       "version_major": 2,
       "version_minor": 0
      },
      "text/plain": [
       "config_sentence_transformers.json:   0%|          | 0.00/116 [00:00<?, ?B/s]"
      ]
     },
     "metadata": {},
     "output_type": "display_data"
    },
    {
     "data": {
      "application/vnd.jupyter.widget-view+json": {
       "model_id": "7901d58e2f1e46d38f19ac249238eaa0",
       "version_major": 2,
       "version_minor": 0
      },
      "text/plain": [
       "README.md: 0.00B [00:00, ?B/s]"
      ]
     },
     "metadata": {},
     "output_type": "display_data"
    },
    {
     "data": {
      "application/vnd.jupyter.widget-view+json": {
       "model_id": "bb93396398514646b7dffab2824c1c78",
       "version_major": 2,
       "version_minor": 0
      },
      "text/plain": [
       "sentence_bert_config.json:   0%|          | 0.00/53.0 [00:00<?, ?B/s]"
      ]
     },
     "metadata": {},
     "output_type": "display_data"
    },
    {
     "data": {
      "application/vnd.jupyter.widget-view+json": {
       "model_id": "d22ab19b820549b1a08eb23d3ae69bd1",
       "version_major": 2,
       "version_minor": 0
      },
      "text/plain": [
       "config.json:   0%|          | 0.00/612 [00:00<?, ?B/s]"
      ]
     },
     "metadata": {},
     "output_type": "display_data"
    },
    {
     "name": "stderr",
     "output_type": "stream",
     "text": [
      "Xet Storage is enabled for this repo, but the 'hf_xet' package is not installed. Falling back to regular HTTP download. For better performance, install the package with: `pip install huggingface_hub[hf_xet]` or `pip install hf_xet`\n"
     ]
    },
    {
     "data": {
      "application/vnd.jupyter.widget-view+json": {
       "model_id": "3457b532bf9f4a11bf7a4d6816cc34d8",
       "version_major": 2,
       "version_minor": 0
      },
      "text/plain": [
       "model.safetensors:   0%|          | 0.00/90.9M [00:00<?, ?B/s]"
      ]
     },
     "metadata": {},
     "output_type": "display_data"
    },
    {
     "data": {
      "application/vnd.jupyter.widget-view+json": {
       "model_id": "e1e885f169d5414589b642da4a5295c9",
       "version_major": 2,
       "version_minor": 0
      },
      "text/plain": [
       "tokenizer_config.json:   0%|          | 0.00/350 [00:00<?, ?B/s]"
      ]
     },
     "metadata": {},
     "output_type": "display_data"
    },
    {
     "data": {
      "application/vnd.jupyter.widget-view+json": {
       "model_id": "5fb76d7b88e944b7b68ceafcc9970021",
       "version_major": 2,
       "version_minor": 0
      },
      "text/plain": [
       "vocab.txt: 0.00B [00:00, ?B/s]"
      ]
     },
     "metadata": {},
     "output_type": "display_data"
    },
    {
     "data": {
      "application/vnd.jupyter.widget-view+json": {
       "model_id": "774f7b4757ee4ef99d6bb79902976263",
       "version_major": 2,
       "version_minor": 0
      },
      "text/plain": [
       "tokenizer.json: 0.00B [00:00, ?B/s]"
      ]
     },
     "metadata": {},
     "output_type": "display_data"
    },
    {
     "data": {
      "application/vnd.jupyter.widget-view+json": {
       "model_id": "2be73d6816514f648feba14c1f98dffa",
       "version_major": 2,
       "version_minor": 0
      },
      "text/plain": [
       "special_tokens_map.json:   0%|          | 0.00/112 [00:00<?, ?B/s]"
      ]
     },
     "metadata": {},
     "output_type": "display_data"
    },
    {
     "data": {
      "application/vnd.jupyter.widget-view+json": {
       "model_id": "c1c6ee1e7c7143a69fe5c427d7b3ba75",
       "version_major": 2,
       "version_minor": 0
      },
      "text/plain": [
       "config.json:   0%|          | 0.00/190 [00:00<?, ?B/s]"
      ]
     },
     "metadata": {},
     "output_type": "display_data"
    }
   ],
   "source": [
    "from sentence_transformers import SentenceTransformer\n",
    "import faiss, numpy as np\n",
    "\n",
    "model = SentenceTransformer(\"all-MiniLM-L6-v2\")\n",
    "embeddings = model.encode(chunks, normalize_embeddings=True)\n",
    "\n",
    "index = faiss.IndexFlatIP(embeddings.shape[1])\n",
    "index.add(np.array(embeddings, dtype=\"float32\"))\n"
   ]
  },
  {
   "cell_type": "code",
   "execution_count": 16,
   "id": "6a3965d0-ca05-4f24-8121-244faab6db9f",
   "metadata": {},
   "outputs": [
    {
     "name": "stdout",
     "output_type": "stream",
     "text": [
      "Treffer: k ∈G (Assoziativgesetz), G2 g • e = e • g = g für alle g ∈G (Neutrales Element) und G3 Zu jedem g ∈G gibt es ein h ∈G mit g • h = h • g = e (Inverses Element). Gilt außerdem g • h = h • g für alle g,  ...\n",
      "Treffer: ...“10. ▶Identifikation passiert durch „...direkt oder indirekt, insbesondere mittels Zuordnung zu einer Kennung wie einem Namen, zu einer Kennnummer, zu Standortdaten, zu einer Online-Kennung oder zu ...\n",
      "Treffer: die dann keinerlei äußere Einwirkung mehr benötigen. Angst wird häufig durch das Vortäuschen einer besonders kritischen Situation (Notfallsituation) hervorgerufen und verleitet z. B. zu schadhaften Ha ...\n"
     ]
    }
   ],
   "source": [
    "query = \"worum geht es hier ?\"\n",
    "q_emb = model.encode([query], normalize_embeddings=True)\n",
    "D, I = index.search(np.array(q_emb, dtype=\"float32\"), k=3)\n",
    "\n",
    "for idx in I[0]:\n",
    "    print(\"Treffer:\", chunks[idx][:200], \"...\")\n"
   ]
  },
  {
   "cell_type": "code",
   "execution_count": null,
   "id": "09a81bc0-c36e-4c89-b9de-955788b8744b",
   "metadata": {},
   "outputs": [],
   "source": []
  },
  {
   "cell_type": "code",
   "execution_count": null,
   "id": "20ebebdf-d6f8-4723-80d8-773cb36cb9de",
   "metadata": {},
   "outputs": [],
   "source": []
  },
  {
   "cell_type": "code",
   "execution_count": null,
   "id": "a08196cd-81ee-4e77-b63a-293c2d41cafd",
   "metadata": {},
   "outputs": [],
   "source": []
  }
 ],
 "metadata": {
  "kernelspec": {
   "display_name": "Python 3 (ipykernel)",
   "language": "python",
   "name": "python3"
  },
  "language_info": {
   "codemirror_mode": {
    "name": "ipython",
    "version": 3
   },
   "file_extension": ".py",
   "mimetype": "text/x-python",
   "name": "python",
   "nbconvert_exporter": "python",
   "pygments_lexer": "ipython3",
   "version": "3.12.6"
  }
 },
 "nbformat": 4,
 "nbformat_minor": 5
}
